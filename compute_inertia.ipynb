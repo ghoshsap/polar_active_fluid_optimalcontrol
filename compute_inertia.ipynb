{
 "cells": [
  {
   "cell_type": "code",
   "execution_count": 1,
   "id": "eab7b7ef",
   "metadata": {},
   "outputs": [],
   "source": [
    "from fenics import *\n",
    "from dolfin import *\n",
    "#from mshr import *\n",
    "import matplotlib.pyplot as plt\n",
    "\n",
    "\n",
    "comm = MPI.comm_world\n",
    "rank = MPI.rank(comm)\n",
    "\n",
    "data = HDF5File(comm, f\"data_test_count_49_w_0.2236_time_2000.h5\", 'r')\n",
    "\n",
    "mesh = Mesh()\n",
    "data.read(mesh, \"mesh\", False)"
   ]
  },
  {
   "cell_type": "code",
   "execution_count": 2,
   "id": "4a129c1b",
   "metadata": {},
   "outputs": [
    {
     "data": {
      "text/plain": [
       "[<matplotlib.lines.Line2D at 0x16c470a60>,\n",
       " <matplotlib.lines.Line2D at 0x16c470d60>]"
      ]
     },
     "execution_count": 2,
     "metadata": {},
     "output_type": "execute_result"
    },
    {
     "data": {
      "image/png": "[encoded data removed]",
      "text/plain": [
       "<Figure size 432x288 with 1 Axes>"
      ]
     },
     "metadata": {
      "needs_background": "light"
     },
     "output_type": "display_data"
    }
   ],
   "source": [
    "plot(mesh)"
   ]
  },
  {
   "cell_type": "code",
   "execution_count": 3,
   "id": "e1985914",
   "metadata": {},
   "outputs": [],
   "source": [
    "nx = 60\n",
    "ny = 60\n",
    "LX = 128 \n",
    "LY = 128\n",
    "\n",
    "# Sub domain for Periodic boundary condition\n",
    "class PeriodicBoundary(SubDomain):\n",
    "\n",
    "    def inside(self, x, on_boundary):\n",
    "        return bool((near(x[0], 0) or near(x[1], 0)) and\n",
    "                (not ((near(x[0], 0) and near(x[1], LY)) or\n",
    "                        (near(x[0], LX) and near(x[1], 0)))) and on_boundary)\n",
    "\n",
    "    def map(self, x, y):\n",
    "        if near(x[0], LX) and near(x[1], LY):\n",
    "            y[0] = x[0] - LX\n",
    "            y[1] = x[1] - LY\n",
    "        elif near(x[0], LX):\n",
    "            y[0] = x[0] - LX\n",
    "            y[1] = x[1]\n",
    "        else:   # near(x[1], 127)\n",
    "            y[0] = x[0]\n",
    "            y[1] = x[1] - LY"
   ]
  },
  {
   "cell_type": "code",
   "execution_count": 4,
   "id": "1f5ceb85",
   "metadata": {},
   "outputs": [],
   "source": [
    "V = VectorElement(\"Lagrange\", mesh.ufl_cell(), 1, dim = 2)\n",
    "Q = FiniteElement(\"Lagrange\", mesh.ufl_cell(), 1)\n",
    "MFS = FunctionSpace(mesh, MixedElement([Q, V]), constrained_domain = PeriodicBoundary())\n",
    "\n",
    "VFS = FunctionSpace(mesh, V, constrained_domain = PeriodicBoundary())\n",
    "FS  = FunctionSpace(mesh, Q, constrained_domain = PeriodicBoundary())\n",
    "\n",
    "u_new = Function(MFS) \n",
    "w = Function(FS)\n",
    "(rho_new, tau_new) = split(u_new)"
   ]
  },
  {
   "cell_type": "code",
   "execution_count": 20,
   "id": "20314a8b",
   "metadata": {},
   "outputs": [],
   "source": [
    "import numpy as np\n",
    "\n",
    "x = np.linspace(0, LX, nx)\n",
    "y = np.linspace(0, LY, ny)\n",
    "xx, yy = np.meshgrid(x, y, sparse = False, indexing = 'ij')\n",
    "\n"
   ]
  },
  {
   "cell_type": "code",
   "execution_count": 81,
   "id": "5c7e2fb7",
   "metadata": {},
   "outputs": [],
   "source": [
    "total_time = 2000\n",
    "step = 2\n",
    "\n",
    "\n",
    "time = np.arange(0, total_time, step)\n",
    "Inertia = []\n",
    "\n",
    "def calculate_inertia(rho_array):\n",
    "    \n",
    "    test_rho = np.zeros([nx, ny])\n",
    "    thres = 1.07\n",
    "    mask = rho_array > thres\n",
    "    test_rho = np.where(mask, rho_array, 0)\n",
    "\n",
    "    cmx, cmy, M = 0, 0, 0\n",
    "    for i in range(nx):\n",
    "        for j in range(ny):\n",
    "            cmx = cmx + i*test_rho[i, j]\n",
    "            cmy = cmy + j*test_rho[i, j]\n",
    "            M = M + test_rho[i, j]\n",
    "    cmx = cmx/M\n",
    "    cmy = cmy/M\n",
    "    Ixx, Iyy, Ixy = 0, 0, 0\n",
    "\n",
    "    for x in range(nx):\n",
    "        for y in range(ny):\n",
    "            Ixx = Ixx + test_rho[x, y]*(y - cmy)**2\n",
    "            Iyy = Iyy + test_rho[x, y]*(x - cmx)**2\n",
    "            Ixy = Ixy - test_rho[x, y]*(x - cmx)*(y - cmy)\n",
    "            \n",
    "    I = np.asarray([[Ixx, Ixy], [Ixy, Iyy]])\n",
    "    eigenvalues, eigenvectors = np.linalg.eig(I)\n",
    "    \n",
    "    inertia = eigenvalues[1]/eigenvalues[0]\n",
    "    \n",
    "    return inertia\n",
    "\n",
    "    \n",
    "for t in range(0, total_time, step):\n",
    "    \n",
    "    if(t % 100 == 0):\n",
    "        print(f\"step : {t}\", flush = True)\n",
    "    \n",
    "    data.read(u_new, f\"u_new/Vector/vector_{t}\")\n",
    "\n",
    "    rho, tau = u_new.split()\n",
    "\n",
    "\n",
    "    rho_f = np.vectorize(rho)\n",
    "    rho_array = rho_f(xx,yy)\n",
    "    \n",
    "    Inertia.append(calculate_inertia(rho_array))\n"
   ]
  },
  {
   "cell_type": "code",
   "execution_count": 83,
   "id": "065a66a9",
   "metadata": {},
   "outputs": [
    {
     "data": {
      "text/plain": [
       "<matplotlib.lines.Line2D at 0x1700103a0>"
      ]
     },
     "execution_count": 83,
     "metadata": {},
     "output_type": "execute_result"
    },
    {
     "data": {
      "image/png": "[encoded data removed]",
      "text/plain": [
       "<Figure size 432x288 with 1 Axes>"
      ]
     },
     "metadata": {
      "needs_background": "light"
     },
     "output_type": "display_data"
    }
   ],
   "source": [
    "plt.plot(Inertia)\n",
    "plt.axhline(y = 1)"
   ]
  },
  {
   "cell_type": "code",
   "execution_count": null,
   "id": "b4189045",
   "metadata": {},
   "outputs": [],
   "source": []
  }
 ],
 "metadata": {
  "kernelspec": {
   "display_name": "Python 3",
   "language": "python",
   "name": "python3"
  },
  "language_info": {
   "codemirror_mode": {
    "name": "ipython",
    "version": 3
   },
   "file_extension": ".py",
   "mimetype": "text/x-python",
   "name": "python",
   "nbconvert_exporter": "python",
   "pygments_lexer": "ipython3",
   "version": "3.9.2"
  }
 },
 "nbformat": 4,
 "nbformat_minor": 5
}
