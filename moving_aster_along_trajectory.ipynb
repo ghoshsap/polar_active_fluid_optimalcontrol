{
 "cells": [
  {
   "cell_type": "code",
   "execution_count": 1,
   "id": "4955a747",
   "metadata": {},
   "outputs": [],
   "source": [
    "import os\n",
    "import random\n",
    "from fenics import *\n",
    "from dolfin import *\n",
    "import numpy as np\n",
    "import sys\n",
    "\n",
    "comm = MPI.comm_world\n",
    "rank = MPI.rank(comm)\n",
    "\n",
    "set_log_level(50)\n",
    "\n",
    "# generate mesh\n",
    "\n",
    "nx, ny = 60, 120\n",
    "LX, LY = 128, 256\n",
    "mesh = RectangleMesh(Point(0, 0), Point(LX, LY), nx, ny)\n",
    "\n",
    "class PeriodicBoundary(SubDomain):\n",
    "\n",
    "    def inside(self, x, on_boundary):\n",
    "        return bool((near(x[0], 0) or near(x[1], 0)) and\n",
    "                    (not ((near(x[0], 0) and near(x[1], LY)) or\n",
    "                          (near(x[0], LX) and near(x[1], 0)))) and on_boundary)\n",
    "\n",
    "    def map(self, x, y):\n",
    "        if near(x[0], LX) and near(x[1], LY):\n",
    "            y[0] = x[0] - LX\n",
    "            y[1] = x[1] - LY\n",
    "        elif near(x[0], LX):\n",
    "            y[0] = x[0] - LX\n",
    "            y[1] = x[1]\n",
    "        else:   # near(x[1], 127)\n",
    "            y[0] = x[0]\n",
    "            y[1] = x[1] - LY\n",
    "\n",
    "\n",
    "#####################################################################################################\n",
    "V = VectorElement(\"Lagrange\", mesh.ufl_cell(), 1, dim=2)\n",
    "Q = FiniteElement(\"Lagrange\", mesh.ufl_cell(), 1)\n",
    "MFS = FunctionSpace(mesh, MixedElement([Q, V]), constrained_domain=PeriodicBoundary())\n",
    "FS = FunctionSpace(mesh, Q, constrained_domain=PeriodicBoundary())"
   ]
  },
  {
   "cell_type": "code",
   "execution_count": 2,
   "id": "235ad71f",
   "metadata": {},
   "outputs": [],
   "source": [
    "w = Function(FS)\n",
    "\n",
    "u_new = Function(MFS)\n",
    "(rho, tau) = split(u_new)"
   ]
  },
  {
   "cell_type": "code",
   "execution_count": 3,
   "id": "b5481b10",
   "metadata": {},
   "outputs": [
    {
     "data": {
      "text/plain": [
       "<matplotlib.colorbar.Colorbar at 0x16e9a4fa0>"
      ]
     },
     "execution_count": 3,
     "metadata": {},
     "output_type": "execute_result"
    },
    {
     "data": {
      "image/png": "[encoded data removed]",
      "text/plain": [
       "<Figure size 432x288 with 2 Axes>"
      ]
     },
     "metadata": {
      "needs_background": "light"
     },
     "output_type": "display_data"
    }
   ],
   "source": [
    "Hdf = HDF5File(comm, f\"forward_w_0.05_lmd_0.8_time_2_seed_12345.h5\", 'r')\n",
    "Hdf.read(u_new, f\"u_new/Vector/vector_9999\")\n",
    "\n",
    "import matplotlib.pyplot as plt\n",
    "c = plot(rho)\n",
    "plt.colorbar(c)"
   ]
  },
  {
   "cell_type": "code",
   "execution_count": 4,
   "id": "6876539b",
   "metadata": {},
   "outputs": [],
   "source": [
    "mesh_fine = RectangleMesh(Point(0, 0), Point(LX, LY), 2*nx, 2*ny)\n",
    "\n",
    "Q_fine = FiniteElement(\"Lagrange\", mesh_fine.ufl_cell(), 1)\n",
    "FS_fine = FunctionSpace(mesh_fine, Q_fine, constrained_domain=PeriodicBoundary())"
   ]
  },
  {
   "cell_type": "code",
   "execution_count": 6,
   "id": "1c70b3b1",
   "metadata": {},
   "outputs": [],
   "source": [
    "def fenics_to_numpyarray(rho):\n",
    "    \n",
    "    x = np.linspace(0, LX, 2*nx +1)\n",
    "    y = np.linspace(0, LY, 2*ny + 1)\n",
    "    xx, yy = np.meshgrid(x, y, sparse = False, indexing = 'ij')\n",
    "    \n",
    "    rho_ = project(rho, FS_fine)\n",
    "    rho_vec = np.vectorize(rho_)\n",
    "    rho_ar = rho_vec(xx, yy)\n",
    "    \n",
    "    return rho_ar\n",
    "\n",
    "\n",
    "def numpyarray_to_fenics(rho_ar):\n",
    "    \n",
    "    rho__ = Function(FS_fine)\n",
    "\n",
    "    # Get the local to global DoF map\n",
    "    dof_map = vertex_to_dof_map(FS_fine)\n",
    "\n",
    "    # Copy the data from the NumPy array to the Function\n",
    "    for i in range(FS_fine.dim()):\n",
    "        rho__.vector()[dof_map[i]] = rho_ar.flatten()[i]\n",
    "\n",
    "    return rho__\n",
    "\n"
   ]
  },
  {
   "cell_type": "code",
   "execution_count": 12,
   "id": "b2b205d3",
   "metadata": {},
   "outputs": [],
   "source": [
    "def roll(x_roll, y_roll, rho_ar):\n",
    "    \n",
    "    # Perform a circular shift along rows (axis=0)\n",
    "    shifted_rows = np.roll(rho_ar, shift=x_roll, axis=0)\n",
    "\n",
    "    # Perform a circular shift along columns (axis=1)\n",
    "    rho_shifted = np.roll(shifted_rows, shift=y_roll, axis=1)\n",
    "    \n",
    "    return rho_shifted\n"
   ]
  },
  {
   "cell_type": "code",
   "execution_count": 56,
   "id": "adbad4ff",
   "metadata": {},
   "outputs": [
    {
     "data": {
      "text/plain": [
       "<matplotlib.tri.tricontour.TriContourSet at 0x170c2a670>"
      ]
     },
     "execution_count": 56,
     "metadata": {},
     "output_type": "execute_result"
    },
    {
     "data": {
      "image/png": "[encoded data removed]",
      "text/plain": [
       "<Figure size 432x288 with 1 Axes>"
      ]
     },
     "metadata": {
      "needs_background": "light"
     },
     "output_type": "display_data"
    }
   ],
   "source": [
    "plot(rho)"
   ]
  },
  {
   "cell_type": "code",
   "execution_count": 66,
   "id": "8172b219",
   "metadata": {},
   "outputs": [
    {
     "data": {
      "text/plain": [
       "<matplotlib.tri.tricontour.TriContourSet at 0x171574d90>"
      ]
     },
     "execution_count": 66,
     "metadata": {},
     "output_type": "execute_result"
    },
    {
     "data": {
      "image/png": "[encoded data removed]",
      "text/plain": [
       "<Figure size 432x288 with 1 Axes>"
      ]
     },
     "metadata": {
      "needs_background": "light"
     },
     "output_type": "display_data"
    }
   ],
   "source": [
    "rho_fine = Function(FS_fine)\n",
    "rho_fine = project(rho, FS_fine)\n",
    "rho_ar_fine = fenics_to_numpyarray(rho_fine)\n",
    "\n",
    "\n",
    "rho_ar_fine = roll(35, 220, rho_ar_fine)\n",
    "\n",
    "rho_new = Function(FS_fine)\n",
    "rho_new = numpyarray_to_fenics(rho_ar_fine.T)\n",
    "\n",
    "rho_coarse = project(rho_new, FS)\n",
    "plot(rho_coarse)"
   ]
  },
  {
   "cell_type": "code",
   "execution_count": 53,
   "id": "7c21fa04",
   "metadata": {},
   "outputs": [
    {
     "name": "stdout",
     "output_type": "stream",
     "text": [
      "Calling FFC just-in-time (JIT) compiler, this may take some time.\n"
     ]
    }
   ],
   "source": [
    "# project the fenics function to finer mesh -> map to numpy array on finer mesh and do operations (roll) \n",
    "# -> convert numpy array into fenics function -> project the fenics function back to coarser mesh\n",
    "\n",
    "tf = TestFunction(MFS)\n",
    "(q, v) = split(tf)\n",
    "\n",
    "Hdf_target = HDF5File(comm, f\"aster_trajectory.h5\", 'w')\n",
    "count = 0\n",
    "\n",
    "for y in range(70, 220):\n",
    "\n",
    "    rho_fine = Function(FS_fine)\n",
    "    rho_fine = project(rho, FS_fine)\n",
    "    rho_ar_fine = fenics_to_numpyarray(rho_fine)\n",
    "\n",
    "\n",
    "    rho_ar_fine = roll(35, y, rho_ar_fine)\n",
    "\n",
    "    rho_new = Function(FS_fine)\n",
    "    rho_new = numpyarray_to_fenics(rho_ar_fine.T)\n",
    "\n",
    "    rho_coarse = project(rho_new, FS)\n",
    "\n",
    "    ######################################################\n",
    "    rho_fine = Function(FS_fine)\n",
    "    rho_fine = project(tau[0], FS_fine)\n",
    "    rho_ar_fine = fenics_to_numpyarray(rho_fine)\n",
    "\n",
    "\n",
    "    rho_ar_fine = roll(35, y, rho_ar_fine)\n",
    "\n",
    "    rho_new = Function(FS_fine)\n",
    "    rho_new = numpyarray_to_fenics(rho_ar_fine.T)\n",
    "\n",
    "    taux_coarse = project(rho_new, FS)\n",
    "\n",
    "    #######################################################\n",
    "\n",
    "    rho_fine = Function(FS_fine)\n",
    "    rho_fine = project(tau[1], FS_fine)\n",
    "    rho_ar_fine = fenics_to_numpyarray(rho_fine)\n",
    "\n",
    "\n",
    "    rho_ar_fine = roll(35, y, rho_ar_fine)\n",
    "\n",
    "    rho_new = Function(FS_fine)\n",
    "    rho_new = numpyarray_to_fenics(rho_ar_fine.T)\n",
    "\n",
    "    tauy_coarse = project(rho_new, FS)\n",
    "\n",
    "\n",
    "    ########################################################\n",
    "\n",
    "    tau_com = as_vector([taux_coarse, tauy_coarse])\n",
    "\n",
    "########################################################\n",
    "\n",
    "    test = Function(MFS)\n",
    "    (testx, testy) = split(test)\n",
    "\n",
    "    Res_0 = testx*q*dx - rho_coarse*q*dx\n",
    "    Res_1 = dot(testy, v)*dx - dot(tau_com, v)*dx\n",
    "\n",
    "    Res = Res_0 + Res_1\n",
    "\n",
    "    solve(Res == 0, test)\n",
    "\n",
    "\n",
    "    Hdf_target.write(test, f\"u_new/Vector/vector_{count}\")\n",
    "    \n",
    "    count = count + 1\n",
    "    \n",
    "Hdf_target.close()"
   ]
  },
  {
   "cell_type": "code",
   "execution_count": null,
   "id": "5950faff",
   "metadata": {},
   "outputs": [],
   "source": []
  }
 ],
 "metadata": {
  "kernelspec": {
   "display_name": "Python 3",
   "language": "python",
   "name": "python3"
  },
  "language_info": {
   "codemirror_mode": {
    "name": "ipython",
    "version": 3
   },
   "file_extension": ".py",
   "mimetype": "text/x-python",
   "name": "python",
   "nbconvert_exporter": "python",
   "pygments_lexer": "ipython3",
   "version": "3.9.2"
  }
 },
 "nbformat": 4,
 "nbformat_minor": 5
}
