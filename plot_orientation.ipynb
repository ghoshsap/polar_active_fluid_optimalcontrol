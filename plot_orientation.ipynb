{
 "cells": [
  {
   "cell_type": "code",
   "execution_count": 9,
   "id": "3b68e19e",
   "metadata": {},
   "outputs": [
    {
     "data": {
      "text/plain": [
       "<matplotlib.colorbar.Colorbar at 0x16d6853d0>"
      ]
     },
     "execution_count": 9,
     "metadata": {},
     "output_type": "execute_result"
    },
    {
     "data": {
      "image/png": "[encoded data removed]",
      "text/plain": [
       "<Figure size 432x288 with 2 Axes>"
      ]
     },
     "metadata": {
      "needs_background": "light"
     },
     "output_type": "display_data"
    }
   ],
   "source": [
    "import math\n",
    "\n",
    "from fenics import *\n",
    "from dolfin import *\n",
    "#from mshr import *\n",
    "import matplotlib.pyplot as plt\n",
    "\n",
    "comm = MPI.comm_world\n",
    "rank = MPI.rank(comm)\n",
    "import numpy as np\n",
    "\n",
    "data = HDF5File(comm, f\"data_test_35.h5\", 'r')\n",
    "\n",
    "mesh = Mesh()\n",
    "data.read(mesh, \"mesh\", False)\n",
    "\n",
    "nx = 60\n",
    "ny = 100\n",
    "LX = 120 \n",
    "LY = 200\n",
    "\n",
    "# Sub domain for Periodic boundary condition\n",
    "class PeriodicBoundary(SubDomain):\n",
    "\n",
    "    def inside(self, x, on_boundary):\n",
    "        return bool((near(x[0], 0) or near(x[1], 0)) and\n",
    "                (not ((near(x[0], 0) and near(x[1], LY)) or\n",
    "                        (near(x[0], LX) and near(x[1], 0)))) and on_boundary)\n",
    "\n",
    "    def map(self, x, y):\n",
    "        if near(x[0], LX) and near(x[1], LY):\n",
    "            y[0] = x[0] - LX\n",
    "            y[1] = x[1] - LY\n",
    "        elif near(x[0], LX):\n",
    "            y[0] = x[0] - LX\n",
    "            y[1] = x[1]\n",
    "        else:   # near(x[1], 127)\n",
    "            y[0] = x[0]\n",
    "            y[1] = x[1] - LY\n",
    "            \n",
    "V = VectorElement(\"Lagrange\", mesh.ufl_cell(), 1, dim = 2)\n",
    "Q = FiniteElement(\"Lagrange\", mesh.ufl_cell(), 1)\n",
    "MFS = FunctionSpace(mesh, MixedElement([Q, V]), constrained_domain = PeriodicBoundary())\n",
    "\n",
    "VFS = FunctionSpace(mesh, V, constrained_domain = PeriodicBoundary())\n",
    "FS  = FunctionSpace(mesh, Q, constrained_domain = PeriodicBoundary())\n",
    "\n",
    "u_new = Function(MFS) \n",
    "w = Function(FS)\n",
    "\n",
    "(rho_new, tau_new) = split(u_new)\n",
    "\n",
    "\n",
    "t = 2999\n",
    "data.read(u_new, f\"u_new/Vector/vector_35_{t}\")\n",
    "\n",
    "c = plot(rho_new)\n",
    "plt.colorbar(c)"
   ]
  },
  {
   "cell_type": "code",
   "execution_count": 50,
   "id": "f138268d",
   "metadata": {},
   "outputs": [
    {
     "name": "stdout",
     "output_type": "stream",
     "text": [
      "step : 2980\n",
      "step : 2981\n",
      "step : 2982\n",
      "step : 2983\n",
      "step : 2984\n",
      "step : 2985\n",
      "step : 2986\n",
      "step : 2987\n",
      "step : 2988\n",
      "step : 2989\n",
      "step : 2990\n",
      "step : 2991\n",
      "step : 2992\n",
      "step : 2993\n",
      "step : 2994\n"
     ]
    }
   ],
   "source": [
    "theta = Function(FS)\n",
    "\n",
    "interval = 15\n",
    "start = 2980\n",
    "end = start + interval\n",
    "\n",
    "\n",
    "\n",
    "def calculate_theta(taux, tauy):\n",
    "\n",
    "    theta = Function(FS)\n",
    "\n",
    "\n",
    "    for i in range(len(theta.vector()[:])):\n",
    "        theta.vector()[i] = np.arctan2(tauy.vector()[i], taux.vector()[i])\n",
    "        \n",
    "        \n",
    "    return theta\n",
    "\n",
    "\n",
    "def fenics_to_numpyarray(rho):\n",
    "    \n",
    "    x = np.linspace(0, LX, LX)\n",
    "    y = np.linspace(0, LY, LY)\n",
    "    xx, yy = np.meshgrid(x, y, sparse = False, indexing = 'ij')\n",
    "    \n",
    "    rho_ = project(rho, FS)\n",
    "    rho_vec = np.vectorize(rho_)\n",
    "    rho_ar = rho_vec(xx, yy)\n",
    "    \n",
    "    return rho_ar\n",
    "\n",
    "\n",
    "def calculate_phi(x0, y0):\n",
    "\n",
    "    phi = np.zeros([LX, LY])\n",
    "\n",
    "    for x in range(LX):\n",
    "        for y in range(LY):\n",
    "            \n",
    "            if x != x0:  # To avoid division by zero\n",
    "                phi[x, y] = math.atan2((y - y0), (x - x0))\n",
    "            elif y > y0:\n",
    "                phi[x, y] = math.pi / 2\n",
    "            elif y < y0:\n",
    "                phi[x, y] = -math.pi / 2\n",
    "            else:\n",
    "                phi[x, y] = 0.0\n",
    "                \n",
    "    return phi\n",
    "\n",
    "\n",
    "\n",
    "def create_circular_mask(rows, cols, center, radius):\n",
    "    y, x = np.ogrid[:rows, :cols]\n",
    "    distance = np.sqrt((x - center[0])**2 + (y - center[1])**2)\n",
    "    mask = distance <= radius\n",
    "    return mask\n",
    "\n",
    "\n",
    "\n",
    "theta_total = np.zeros([LX*LY, interval])\n",
    "phi_total = np.zeros([LX*LY, interval])\n",
    "\n",
    "\n",
    "\n",
    "\n",
    "\n",
    "\n",
    "\n",
    "for t in range(start, end):\n",
    "    \n",
    "    print(f\"step : {t}\", flush = True)\n",
    "    \n",
    "    data.read(u_new, f\"u_new/Vector/vector_35_{t}\")\n",
    "\n",
    "    taux = project(tau_new[0]/rho_new, FS)\n",
    "    tauy = project(tau_new[1]/rho_new, FS)\n",
    "\n",
    "    theta = calculate_theta(taux, tauy)\n",
    "\n",
    "    theta_ar = fenics_to_numpyarray(theta)\n",
    "    rho_ar   = fenics_to_numpyarray(rho_new)\n",
    "\n",
    "\n",
    "\n",
    "    max_value = np.max(rho_ar)\n",
    "    max_index = np.unravel_index(np.argmax(rho_ar), rho_ar.shape)\n",
    "\n",
    "    x0 = max_index[0]\n",
    "    y0 = max_index[1]\n",
    "\n",
    "\n",
    "    phi = calculate_phi(x0, y0)\n",
    "    # Parameters\n",
    "    center_x = x0\n",
    "    center_y = y0\n",
    "    radius = 10\n",
    "\n",
    "    # Create a circular mask\n",
    "    mask = create_circular_mask(LY, LX, (center_x, center_y), radius)\n",
    "\n",
    "    # Create a sample array\n",
    "    input_array = rho_ar.T\n",
    "\n",
    "    # Apply the mask\n",
    "    masked_array = np.where(mask, input_array, 0)\n",
    "\n",
    "    theta_new  = np.where(mask, theta_ar.T, 0) # polarization vector \n",
    "\n",
    "    \n",
    "    ############################################\n",
    "    phi_new = np.where(mask, phi.T, 0) # polar axis \n",
    "\n",
    "    phi_flat = phi_new.flatten()\n",
    "    theta_flat = theta_new.flatten()\n",
    "\n",
    "    # Example data\n",
    "    x = phi_flat\n",
    "    y = theta_flat\n",
    "\n",
    "    # Sort the x array and store the corresponding order indices\n",
    "    sorted_indices = sorted(range(len(x)), key=lambda k: x[k])\n",
    "    sorted_x = [x[i] for i in sorted_indices]\n",
    "    sorted_y = [y[i] for i in sorted_indices]\n",
    "    \n",
    "    \n",
    "    phi_total[:, t - start] = sorted_x\n",
    "    theta_total[:, t - start] = sorted_y\n",
    "\n",
    "# Create the plot\n",
    "# plt.plot(sorted_x, sorted_y, marker = 'o', linestyle='-', color='b')\n",
    "# plt.xlabel(r'$\\phi$', fontsize = 20)\n",
    "# plt.ylabel(r'$\\theta$', fontsize = 20)\n",
    "\n",
    "# plt.axvline(x = 0, linestyle = '--', color = 'k')\n",
    "# plt.axhline(y = 0, linestyle = '--', color = 'k')\n",
    "# plt.tick_params(axis = 'both', labelsize = 20)\n",
    "# plt.show()"
   ]
  },
  {
   "cell_type": "code",
   "execution_count": 52,
   "id": "462ae248",
   "metadata": {},
   "outputs": [],
   "source": [
    "phi_ = np.sum(phi_total, axis  = 1)/interval\n",
    "\n",
    "theta_ = np.sum(theta_total, axis  = 1)/interval"
   ]
  },
  {
   "cell_type": "code",
   "execution_count": 53,
   "id": "4acdb49f",
   "metadata": {},
   "outputs": [
    {
     "data": {
      "text/plain": [
       "[<matplotlib.lines.Line2D at 0x16ebc5730>]"
      ]
     },
     "execution_count": 53,
     "metadata": {},
     "output_type": "execute_result"
    },
    {
     "data": {
      "image/png": "[encoded data removed]",
      "text/plain": [
       "<Figure size 432x288 with 1 Axes>"
      ]
     },
     "metadata": {
      "needs_background": "light"
     },
     "output_type": "display_data"
    }
   ],
   "source": [
    "plt.plot(phi_, theta_)"
   ]
  },
  {
   "cell_type": "code",
   "execution_count": 66,
   "id": "eccc3585",
   "metadata": {},
   "outputs": [
    {
     "name": "stdout",
     "output_type": "stream",
     "text": [
      "0.9855906837939876\n"
     ]
    }
   ],
   "source": [
    "print(np.power(0.93, 1/5))"
   ]
  },
  {
   "cell_type": "code",
   "execution_count": 67,
   "id": "df813fdd",
   "metadata": {},
   "outputs": [
    {
     "data": {
      "text/plain": [
       "0.053867363904658384"
      ]
     },
     "execution_count": 67,
     "metadata": {},
     "output_type": "execute_result"
    }
   ],
   "source": [
    "np.power(0.9855, 200)"
   ]
  },
  {
   "cell_type": "code",
   "execution_count": null,
   "id": "e8e0ba6e",
   "metadata": {},
   "outputs": [],
   "source": []
  }
 ],
 "metadata": {
  "kernelspec": {
   "display_name": "Python 3",
   "language": "python",
   "name": "python3"
  },
  "language_info": {
   "codemirror_mode": {
    "name": "ipython",
    "version": 3
   },
   "file_extension": ".py",
   "mimetype": "text/x-python",
   "name": "python",
   "nbconvert_exporter": "python",
   "pygments_lexer": "ipython3",
   "version": "3.9.2"
  }
 },
 "nbformat": 4,
 "nbformat_minor": 5
}
