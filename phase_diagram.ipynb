{
 "cells": [
  {
   "cell_type": "code",
   "execution_count": 106,
   "metadata": {},
   "outputs": [
    {
     "data": {
      "image/png": "[encoded data removed]",
      "text/plain": [
       "<Figure size 504x432 with 1 Axes>"
      ]
     },
     "metadata": {
      "needs_background": "light"
     },
     "output_type": "display_data"
    }
   ],
   "source": [
    "import numpy as np\n",
    "import matplotlib.pyplot as plt\n",
    "\n",
    "# Model parameters\n",
    "rho0 = 1.05  \n",
    "\n",
    "wt = 0.22 # Critical w0 for onset of splay instability\n",
    "# wb = 0.1 # Estimate for boundary of phase B\n",
    "\n",
    "# Grid for phase diagram\n",
    "w0 = np.linspace(0, 0.5, 1000)\n",
    "lam = np.linspace(0, 2.0, 1000)\n",
    "W0, Lam = np.meshgrid(w0, lam)\n",
    "\n",
    "# (x -> W0) , (y -> Lam)\n",
    "\n",
    "wc = 0.22 - 0.05*Lam # Critical w0 for onset of density instability\n",
    "wb =  0.3*Lam \n",
    "\n",
    "wt =  0.3*Lam - 0.08 + 0.18*W0\n",
    "\n",
    "wk = 0.3*Lam + 0.2\n",
    "\n",
    "# Initialize phase diagram\n",
    "phase = np.zeros_like(W0)\n",
    "\n",
    "# Set phase boundaries \n",
    "phase[W0 >= wb] = 1 # Homogeneous (H)\n",
    "phase[(W0 > wb) & (W0 <= wc)] = 2 # Moving clusters (B)\n",
    "phase[ (W0 < wb) & (W0 >= wt) ] = 3\n",
    " \n",
    "\n",
    "# Make plot\n",
    "fig, ax = plt.subplots(figsize = (7, 6))\n",
    "cp = ax.contourf(W0, Lam, phase, cmap='Purples')\n",
    "# ax.set_xlabel(r'$\\omega_0$', fontsize=20)\n",
    "# ax.set_ylabel(r'$\\lambda$', fontsize=20)\n",
    "ax.tick_params(labelsize=25) \n",
    "\n",
    "# Custom y-axis tick labels\n",
    "custom_y_ticks = [0, 0.5, 1, 1.5, 2]  # Your desired y-axis tick values\n",
    "ax.set_yticks(custom_y_ticks)\n",
    "ax.set_yticklabels(custom_y_ticks)\n",
    "\n",
    "\n",
    "custom_x_ticks = [0, 0.1, 0.2, 0.3, 0.4, 0.5]  # Your desired y-axis tick values\n",
    "ax.set_xticks(custom_x_ticks)\n",
    "ax.set_xticklabels(custom_x_ticks)\n",
    "\n",
    "# Add colorbar\n",
    "# cbar = fig.colorbar(cp)\n",
    "# cbar.set_ticks(np.arange(5))\n",
    "# cbar.set_ticklabels(['H', 'B', 'S', 'A'])\n",
    "plt.tight_layout()\n",
    "plt.savefig(\"phase_diagram.png\", dpi=300)\n",
    "\n",
    "plt.show()\n"
   ]
  },
  {
   "cell_type": "code",
   "execution_count": null,
   "metadata": {},
   "outputs": [],
   "source": []
  }
 ],
 "metadata": {
  "kernelspec": {
   "display_name": "Python 3",
   "language": "python",
   "name": "python3"
  },
  "language_info": {
   "codemirror_mode": {
    "name": "ipython",
    "version": 3
   },
   "file_extension": ".py",
   "mimetype": "text/x-python",
   "name": "python",
   "nbconvert_exporter": "python",
   "pygments_lexer": "ipython3",
   "version": "3.8.5"
  }
 },
 "nbformat": 4,
 "nbformat_minor": 4
}
