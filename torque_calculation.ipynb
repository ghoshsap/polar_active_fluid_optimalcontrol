{
 "cells": [
  {
   "cell_type": "markdown",
   "id": "3766d7e3",
   "metadata": {},
   "source": [
    "$\\partial_t \\theta = \\nabla \\omega \\times \\overrightarrow{\\tau}$"
   ]
  },
  {
   "cell_type": "code",
   "execution_count": 4,
   "id": "559b33b9",
   "metadata": {},
   "outputs": [],
   "source": [
    "from fenics import *\n",
    "from dolfin import *\n",
    "#from mshr import *\n",
    "import matplotlib.pyplot as plt\n",
    "\n",
    "comm = MPI.comm_world\n",
    "rank = MPI.rank(comm)\n",
    "\n",
    "data = HDF5File(comm, f\"data_test_count_49_w_0.2236_time_2000.h5\", 'r')"
   ]
  },
  {
   "cell_type": "code",
   "execution_count": 5,
   "id": "9c90e2e0",
   "metadata": {},
   "outputs": [],
   "source": [
    "mesh = Mesh()\n",
    "data.read(mesh, \"mesh\", False)"
   ]
  },
  {
   "cell_type": "code",
   "execution_count": 6,
   "id": "d6802776",
   "metadata": {},
   "outputs": [],
   "source": [
    "nx = 60\n",
    "ny = 60\n",
    "LX = 128 \n",
    "LY = 128\n",
    "\n",
    "# Sub domain for Periodic boundary condition\n",
    "class PeriodicBoundary(SubDomain):\n",
    "\n",
    "    def inside(self, x, on_boundary):\n",
    "        return bool((near(x[0], 0) or near(x[1], 0)) and\n",
    "                (not ((near(x[0], 0) and near(x[1], LY)) or\n",
    "                        (near(x[0], LX) and near(x[1], 0)))) and on_boundary)\n",
    "\n",
    "    def map(self, x, y):\n",
    "        if near(x[0], LX) and near(x[1], LY):\n",
    "            y[0] = x[0] - LX\n",
    "            y[1] = x[1] - LY\n",
    "        elif near(x[0], LX):\n",
    "            y[0] = x[0] - LX\n",
    "            y[1] = x[1]\n",
    "        else:   # near(x[1], 127)\n",
    "            y[0] = x[0]\n",
    "            y[1] = x[1] - LY"
   ]
  },
  {
   "cell_type": "code",
   "execution_count": 7,
   "id": "8978c357",
   "metadata": {},
   "outputs": [],
   "source": [
    "V = VectorElement(\"Lagrange\", mesh.ufl_cell(), 1, dim = 2)\n",
    "Q = FiniteElement(\"Lagrange\", mesh.ufl_cell(), 1)\n",
    "MFS = FunctionSpace(mesh, MixedElement([Q, V]), constrained_domain = PeriodicBoundary())\n",
    "\n",
    "VFS = FunctionSpace(mesh, V, constrained_domain = PeriodicBoundary())\n",
    "FS  = FunctionSpace(mesh, Q, constrained_domain = PeriodicBoundary())\n",
    "\n",
    "u_new = Function(MFS) \n",
    "(rho_new, tau_new) = split(u_new)\n",
    "\n",
    "w = Function(FS)"
   ]
  },
  {
   "cell_type": "code",
   "execution_count": 8,
   "id": "50408049",
   "metadata": {},
   "outputs": [
    {
     "data": {
      "text/plain": [
       "<matplotlib.colorbar.Colorbar at 0x16c03e940>"
      ]
     },
     "execution_count": 8,
     "metadata": {},
     "output_type": "execute_result"
    },
    {
     "data": {
      "image/png": "[encoded data removed]",
      "text/plain": [
       "<Figure size 432x288 with 2 Axes>"
      ]
     },
     "metadata": {
      "needs_background": "light"
     },
     "output_type": "display_data"
    }
   ],
   "source": [
    "t = 0\n",
    "\n",
    "data.read(u_new, f\"u_new/Vector/vector_{t}\")\n",
    "\n",
    "c = plot(rho_new)\n",
    "plt.colorbar(c)"
   ]
  },
  {
   "cell_type": "code",
   "execution_count": 9,
   "id": "c387fa85",
   "metadata": {},
   "outputs": [
    {
     "name": "stdout",
     "output_type": "stream",
     "text": [
      "0.00018630002687565665\n",
      "0.00018630002687565665\n"
     ]
    },
    {
     "data": {
      "image/png": "[encoded data removed]",
      "text/plain": [
       "<Figure size 432x288 with 2 Axes>"
      ]
     },
     "metadata": {
      "needs_background": "light"
     },
     "output_type": "display_data"
    }
   ],
   "source": [
    "alpha = Function(FS)\n",
    "data.read(w, f\"w/Vector/vector_{t}\")\n",
    "# alpha = project(w*w, FS)\n",
    "k = w.vector()[:]*w.vector()[:]\n",
    "alpha.vector().set_local(k)\n",
    "c = plot(alpha)\n",
    "plt.colorbar(c)\n",
    "print(min(w.vector()[:]*w.vector()[:]))\n",
    "print(min(alpha.vector()[:]))"
   ]
  },
  {
   "cell_type": "code",
   "execution_count": 10,
   "id": "820fe4fb",
   "metadata": {},
   "outputs": [],
   "source": [
    "import numpy as np\n",
    "x = np.linspace(0, LX, 5*nx)\n",
    "y = np.linspace(0, LY, 5*ny)\n",
    "xx, yy = np.meshgrid(x, y, sparse = False, indexing = 'ij')"
   ]
  },
  {
   "cell_type": "markdown",
   "id": "c322ae62",
   "metadata": {},
   "source": [
    "center of the aster is located at $x_0  = 40$. So we integrate a region of $\\Omega$ = $10 \\times 128$ in the left and right domain"
   ]
  },
  {
   "cell_type": "code",
   "execution_count": 12,
   "id": "22ffd34f",
   "metadata": {},
   "outputs": [
    {
     "name": "stdout",
     "output_type": "stream",
     "text": [
      "0\n"
     ]
    }
   ],
   "source": [
    "\n",
    "total_time = 2\n",
    "\n",
    "right_all = []\n",
    "left_all = []\n",
    "\n",
    "for i in range(0, total_time, 2):\n",
    "    right = []\n",
    "    left = []\n",
    "    \n",
    "    if(i%10 == 0):\n",
    "        print(i, flush = True)\n",
    "    \n",
    "    data.read(w, f\"w/Vector/vector_{i}\")\n",
    "    data.read(u_new, f\"u_new/Vector/vector_{i}\")\n",
    "    k = w.vector()[:]*w.vector()[:]\n",
    "    alpha.vector().set_local(k)\n",
    "    grad_alpha = project(grad(alpha), VFS)\n",
    "    tau_ = project(tau_new, VFS)\n",
    "    cross_product = project(tau_.sub(1)*grad_alpha.sub(0) - tau_.sub(0)*grad_alpha.sub(1), FS)\n",
    "    y = np.linspace(0, LY, 2*ny)\n",
    "    \n",
    "    for x0 in range(41, 50):\n",
    "        \n",
    "        tau_y = [cross_product(x0, yi) for yi in y]\n",
    "        right.append(np.sum(tau_y))\n",
    "        \n",
    "    right_all.append(np.sum(right))\n",
    "    \n",
    "    for x0 in range(30, 40):\n",
    "        \n",
    "        tau_y = [cross_product(x0, yi) for yi in y]\n",
    "        left.append(np.sum(tau_y))\n",
    "    left_all.append(np.sum(left))"
   ]
  },
  {
   "cell_type": "code",
   "execution_count": 11,
   "id": "43fbde54",
   "metadata": {},
   "outputs": [
    {
     "name": "stderr",
     "output_type": "stream",
     "text": [
      "<ipython-input-11-fc9c7bf1053d>:16: MatplotlibDeprecationWarning: shading='flat' when X and Y have the same dimensions as C is deprecated since 3.3.  Either specify the corners of the quadrilaterals with X and Y, or pass shading='auto', 'nearest' or 'gouraud', or set rcParams['pcolor.shading'].  This will become an error two minor releases later.\n",
      "  plt.pcolor(x,y,rho.T, cmap = 'seismic')\n"
     ]
    },
    {
     "data": {
      "image/png": "[encoded data removed]",
      "text/plain": [
       "<Figure size 432x432 with 1 Axes>"
      ]
     },
     "metadata": {
      "needs_background": "light"
     },
     "output_type": "display_data"
    },
    {
     "data": {
      "image/png": "[encoded data removed]",
      "text/plain": [
       "<Figure size 432x432 with 1 Axes>"
      ]
     },
     "metadata": {
      "needs_background": "light"
     },
     "output_type": "display_data"
    }
   ],
   "source": [
    "import matplotlib\n",
    "import os\n",
    "\n",
    "\n",
    "def plot_torque(cross, i):\n",
    "    \n",
    "    if not os.path.exists(f'torque_profiles'):\n",
    "        os.makedirs(f'torque_profiles')\n",
    "\n",
    "    rho_ar = np.vectorize(cross)\n",
    "    rho = rho_ar(xx, yy)\n",
    "    plt.figure(figsize=(6, 6))\n",
    "    plt.clf()\n",
    "\n",
    "\n",
    "    plt.pcolor(x,y,rho.T, cmap = 'seismic')\n",
    "# #     cbar = plt.colorbar()\n",
    "# #     tick_font_size = 45\n",
    "# #     cbar.ax.tick_params(labelsize=tick_font_size)\n",
    "\n",
    "    plt.axis('off')\n",
    "    plt.tight_layout()\n",
    "    plt.savefig(f\"torque_profiles/torque_time_{int(0.5*i)}.png\", dpi = 300)\n",
    "    \n",
    "    \n",
    "\n",
    "total_time = 8\n",
    "start = 5\n",
    "\n",
    "right_all = []\n",
    "left_all = []\n",
    "\n",
    "for i in range(start, total_time, 2):\n",
    "    right = []\n",
    "    left = []\n",
    "    \n",
    "    if(i%10 == 0):\n",
    "        print(i, flush = True)\n",
    "    \n",
    "    data.read(w, f\"w/Vector/vector_{i}\")\n",
    "    data.read(u_new, f\"u_new/Vector/vector_{i}\")\n",
    "    k = w.vector()[:]*w.vector()[:]\n",
    "    alpha.vector().set_local(k)\n",
    "    grad_alpha = project(grad(alpha), VFS)\n",
    "    tau_ = project(tau_new, VFS)\n",
    "    cross_product = project(tau_.sub(1)*grad_alpha.sub(0) - tau_.sub(0)*grad_alpha.sub(1), FS)\n",
    "    plot_torque(cross_product, i)\n",
    "\n"
   ]
  },
  {
   "cell_type": "code",
   "execution_count": null,
   "id": "dfff2da2",
   "metadata": {},
   "outputs": [],
   "source": []
  }
 ],
 "metadata": {
  "kernelspec": {
   "display_name": "Python 3",
   "language": "python",
   "name": "python3"
  },
  "language_info": {
   "codemirror_mode": {
    "name": "ipython",
    "version": 3
   },
   "file_extension": ".py",
   "mimetype": "text/x-python",
   "name": "python",
   "nbconvert_exporter": "python",
   "pygments_lexer": "ipython3",
   "version": "3.9.2"
  }
 },
 "nbformat": 4,
 "nbformat_minor": 5
}
