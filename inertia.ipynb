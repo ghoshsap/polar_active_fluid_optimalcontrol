{
 "cells": [
  {
   "cell_type": "code",
   "execution_count": 1,
   "id": "d2cf1171",
   "metadata": {},
   "outputs": [],
   "source": [
    "from fenics import *\n",
    "from dolfin import *\n",
    "#from mshr import *\n",
    "import matplotlib.pyplot as plt\n",
    "\n",
    "\n",
    "comm = MPI.comm_world\n",
    "rank = MPI.rank(comm)\n",
    "\n",
    "data = HDF5File(comm, f\"data_mpi_time_1800_D_1.99_count_49.h5\", 'r')\n",
    "\n",
    "mesh = Mesh()\n",
    "data.read(mesh, \"mesh\", False)"
   ]
  },
  {
   "cell_type": "code",
   "execution_count": 2,
   "id": "771c2e58",
   "metadata": {},
   "outputs": [],
   "source": [
    "nx = 60\n",
    "ny = 100\n",
    "LX = 120 \n",
    "LY = 200\n",
    "\n",
    "# Sub domain for Periodic boundary condition\n",
    "class PeriodicBoundary(SubDomain):\n",
    "\n",
    "    def inside(self, x, on_boundary):\n",
    "        return bool((near(x[0], 0) or near(x[1], 0)) and\n",
    "                (not ((near(x[0], 0) and near(x[1], LY)) or\n",
    "                        (near(x[0], LX) and near(x[1], 0)))) and on_boundary)\n",
    "\n",
    "    def map(self, x, y):\n",
    "        if near(x[0], LX) and near(x[1], LY):\n",
    "            y[0] = x[0] - LX\n",
    "            y[1] = x[1] - LY\n",
    "        elif near(x[0], LX):\n",
    "            y[0] = x[0] - LX\n",
    "            y[1] = x[1]\n",
    "        else:   # near(x[1], 127)\n",
    "            y[0] = x[0]\n",
    "            y[1] = x[1] - LY"
   ]
  },
  {
   "cell_type": "code",
   "execution_count": 17,
   "id": "c844db5e",
   "metadata": {},
   "outputs": [
    {
     "data": {
      "text/plain": [
       "<matplotlib.tri.tricontour.TriContourSet at 0x16ed80280>"
      ]
     },
     "execution_count": 17,
     "metadata": {},
     "output_type": "execute_result"
    },
    {
     "data": {
      "image/png": "[encoded data removed]",
      "text/plain": [
       "<Figure size 432x288 with 1 Axes>"
      ]
     },
     "metadata": {
      "needs_background": "light"
     },
     "output_type": "display_data"
    }
   ],
   "source": [
    "V = VectorElement(\"Lagrange\", mesh.ufl_cell(), 1, dim = 2)\n",
    "Q = FiniteElement(\"Lagrange\", mesh.ufl_cell(), 1)\n",
    "MFS = FunctionSpace(mesh, MixedElement([Q, V]), constrained_domain = PeriodicBoundary())\n",
    "\n",
    "VFS = FunctionSpace(mesh, V, constrained_domain = PeriodicBoundary())\n",
    "FS  = FunctionSpace(mesh, Q, constrained_domain = PeriodicBoundary())\n",
    "\n",
    "u_new = Function(MFS) \n",
    "w = Function(FS)\n",
    "(rho_new, tau_new) = split(u_new)\n",
    "\n",
    "time = 0\n",
    "data.read(u_new, f\"u_new/Vector/vector_{time}\")\n",
    "plot(rho_new)"
   ]
  },
  {
   "cell_type": "code",
   "execution_count": 4,
   "id": "c5fe6250",
   "metadata": {},
   "outputs": [],
   "source": [
    "import numpy as np\n",
    "\n",
    "x = np.linspace(0, LX, nx)\n",
    "y = np.linspace(0, LY, ny)\n",
    "xx, yy = np.meshgrid(x, y, sparse = False, indexing = 'ij')"
   ]
  },
  {
   "cell_type": "code",
   "execution_count": 26,
   "id": "8a3a331a",
   "metadata": {},
   "outputs": [
    {
     "name": "stdout",
     "output_type": "stream",
     "text": [
      "step : 1700\n"
     ]
    }
   ],
   "source": [
    "total_time = 1720\n",
    "step = 2\n",
    "start = 1700\n",
    "\n",
    "time = np.arange(0, total_time, step)\n",
    "Inertia = []\n",
    "y_pos = []\n",
    "\n",
    "def calculate_inertia(rho_array):\n",
    "    \n",
    "    test_rho = np.zeros([nx, ny])\n",
    "    thres = 1.07\n",
    "    mask = rho_array > thres\n",
    "    test_rho = np.where(mask, rho_array, 0)\n",
    "\n",
    "    cmx, cmy, M = 0, 0, 0\n",
    "    for i in range(nx):\n",
    "        for j in range(ny):\n",
    "            cmx = cmx + i*test_rho[i, j]\n",
    "            cmy = cmy + j*test_rho[i, j]\n",
    "            M = M + test_rho[i, j]\n",
    "    cmx = cmx/M\n",
    "    cmy = cmy/M\n",
    "    Ixx, Iyy, Ixy = 0, 0, 0\n",
    "\n",
    "    for x in range(nx):\n",
    "        for y in range(ny):\n",
    "            Ixx = Ixx + test_rho[x, y]*(y - cmy)**2\n",
    "            Iyy = Iyy + test_rho[x, y]*(x - cmx)**2\n",
    "            Ixy = Ixy - test_rho[x, y]*(x - cmx)*(y - cmy)\n",
    "            \n",
    "    I = np.asarray([[Ixx, Ixy], [Ixy, Iyy]])\n",
    "    eigenvalues, eigenvectors = np.linalg.eig(I)\n",
    "    \n",
    "    inertia = eigenvalues[1]/eigenvalues[0]\n",
    "    \n",
    "    return inertia\n",
    "\n",
    "\n",
    "def roll(x_roll, y_roll, rho_ar):\n",
    "    \n",
    "    # Perform a circular shift along rows (axis=0)\n",
    "    shifted_rows = np.roll(rho_ar, shift=x_roll, axis=0)\n",
    "\n",
    "    # Perform a circular shift along columns (axis=1)\n",
    "    rho_shifted = np.roll(shifted_rows, shift=y_roll, axis=1)\n",
    "    \n",
    "    return rho_shifted\n",
    "\n",
    "    \n",
    "for t in range(start, total_time, step):\n",
    "    \n",
    "    if(t % 100 == 0):\n",
    "        print(f\"step : {t}\", flush = True)\n",
    "    \n",
    "    data.read(u_new, f\"u_new/Vector/vector_{t}\")\n",
    "\n",
    "    rho, tau = u_new.split()\n",
    "\n",
    "\n",
    "    rho_f = np.vectorize(rho)\n",
    "    rho_ar = rho_f(xx,yy)\n",
    "\n",
    "    max_index = np.unravel_index(np.argmax(rho_ar), rho_ar.shape)\n",
    "\n",
    "    x0 = max_index[0]\n",
    "    y0 = max_index[1]\n",
    "\n",
    "    rho_ar = roll(int(np.shape(rho_ar)[0]/2) - x0, int(np.shape(rho_ar)[1]/2) - y0, rho_ar)\n",
    "\n",
    "    y_pos.append(2*y0)\n",
    "#     max_index = np.unravel_index(np.argmax(rho_ar), rho_ar.shape)\n",
    "\n",
    "#     x0 = max_index[0]\n",
    "#     y0 = max_index[1]\n",
    "#     print(f\"rolled coordinates are x0:{x0} and y0:{y0}\", flush = True)\n",
    "#     print(np.shape(rho_ar))\n",
    "    Inertia.append(calculate_inertia(rho_ar))\n",
    "\n"
   ]
  },
  {
   "cell_type": "code",
   "execution_count": 28,
   "id": "adece0a9",
   "metadata": {},
   "outputs": [
    {
     "data": {
      "text/plain": [
       "[<matplotlib.lines.Line2D at 0x16f4c2a90>]"
      ]
     },
     "execution_count": 28,
     "metadata": {},
     "output_type": "execute_result"
    },
    {
     "data": {
      "image/png": "[encoded data removed]",
      "text/plain": [
       "<Figure size 432x288 with 1 Axes>"
      ]
     },
     "metadata": {
      "needs_background": "light"
     },
     "output_type": "display_data"
    }
   ],
   "source": [
    "plt.plot(Inertia)\n",
    "# plt.axhline(y = 1, linestyle = '--')"
   ]
  },
  {
   "cell_type": "code",
   "execution_count": 25,
   "id": "a64a79d3",
   "metadata": {},
   "outputs": [
    {
     "name": "stdout",
     "output_type": "stream",
     "text": [
      "60\n"
     ]
    }
   ],
   "source": [
    "print(np.shape(rho_ar)[0])"
   ]
  },
  {
   "cell_type": "code",
   "execution_count": null,
   "id": "f0c7731e",
   "metadata": {},
   "outputs": [],
   "source": []
  }
 ],
 "metadata": {
  "kernelspec": {
   "display_name": "Python 3",
   "language": "python",
   "name": "python3"
  },
  "language_info": {
   "codemirror_mode": {
    "name": "ipython",
    "version": 3
   },
   "file_extension": ".py",
   "mimetype": "text/x-python",
   "name": "python",
   "nbconvert_exporter": "python",
   "pygments_lexer": "ipython3",
   "version": "3.9.2"
  }
 },
 "nbformat": 4,
 "nbformat_minor": 5
}
