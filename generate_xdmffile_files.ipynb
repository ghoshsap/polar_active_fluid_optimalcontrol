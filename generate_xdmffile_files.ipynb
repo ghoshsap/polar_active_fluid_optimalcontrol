{
 "cells": [
  {
   "cell_type": "code",
   "execution_count": 28,
   "metadata": {},
   "outputs": [],
   "source": [
    "import os\n",
    "import random\n",
    "from fenics import *\n",
    "from dolfin import *\n",
    "#from mshr import *\n",
    "import numpy as np\n",
    "import sys\n",
    "\n",
    "comm = MPI.comm_world\n",
    "rank = MPI.rank(comm)\n",
    "\n",
    "set_log_level(50)\n",
    "\n",
    "\n",
    "nx, ny = 60, 60\n",
    "LX, LY = 128, 128\n",
    "count = 0\n",
    "mesh = RectangleMesh(Point(0, 0), Point(LX, LY), nx, ny)"
   ]
  },
  {
   "cell_type": "code",
   "execution_count": 29,
   "metadata": {},
   "outputs": [],
   "source": [
    "class PeriodicBoundary(SubDomain):\n",
    "\n",
    "    def inside(self, x, on_boundary):\n",
    "        return bool((near(x[0], 0) or near(x[1], 0)) and\n",
    "                    (not ((near(x[0], 0) and near(x[1], LY)) or\n",
    "                          (near(x[0], LX) and near(x[1], 0)))) and on_boundary)\n",
    "\n",
    "    def map(self, x, y):\n",
    "        if near(x[0], LX) and near(x[1], LY):\n",
    "            y[0] = x[0] - LX\n",
    "            y[1] = x[1] - LY\n",
    "        elif near(x[0], LX):\n",
    "            y[0] = x[0] - LX\n",
    "            y[1] = x[1]\n",
    "        else:   # near(x[1], 127)\n",
    "            y[0] = x[0]\n",
    "            y[1] = x[1] - LY\n",
    "\n",
    "\n",
    "#####################################################################################################\n",
    "V = VectorElement(\"Lagrange\", mesh.ufl_cell(), 1, dim=2)\n",
    "Q = FiniteElement(\"Lagrange\", mesh.ufl_cell(), 1)\n",
    "MFS = FunctionSpace(mesh, MixedElement([Q, V]), constrained_domain=PeriodicBoundary())\n",
    "FS = FunctionSpace(mesh, Q, constrained_domain=PeriodicBoundary())\n",
    "#####################################################################################################\n",
    "\n",
    "\n",
    "u_star = Function(MFS)\n",
    "(rho_star, tau_star) = split(u_star)\n",
    "\n",
    "u = Function(MFS)\n",
    "(rho, tau) = split(u)\n",
    "\n",
    "data = HDF5File(comm, f\"data_test_count_D_5.0_count_49_w_0.632_time_800_end_49200_start_49900.h5\", 'r')\n",
    "data_ = HDF5File(comm, f\"stripe_initial_states/forward_w_0.4_lmd_0.0_time_50000_seed_30005.h5\", 'r')\n",
    "\n",
    "w = Function(FS)"
   ]
  },
  {
   "cell_type": "code",
   "execution_count": 30,
   "metadata": {},
   "outputs": [
    {
     "name": "stdout",
     "output_type": "stream",
     "text": [
      "WARNING: user expression has not supplied value_shape method or an element. Assuming scalar element.\n"
     ]
    }
   ],
   "source": [
    "# saving the square rooted value because optimal solution file has activity stored with square root\n",
    "\n",
    "w_0 = 0.04\n",
    "class InitialConditions_w(UserExpression):\n",
    "    def __init__(self, **kwargs):\n",
    "        random.seed(1 + MPI.rank(MPI.comm_world))\n",
    "        super().__init__(**kwargs)\n",
    "\n",
    "    def eval(self, values, x):\n",
    "        values[0] = np.sqrt(w_0)\n",
    "\n",
    "\n",
    "w_init = InitialConditions_w(degree=1)\n",
    "w.interpolate(w_init)"
   ]
  },
  {
   "cell_type": "code",
   "execution_count": 31,
   "metadata": {},
   "outputs": [
    {
     "data": {
      "text/plain": [
       "<matplotlib.colorbar.Colorbar at 0x16e90b1c0>"
      ]
     },
     "execution_count": 31,
     "metadata": {},
     "output_type": "execute_result"
    },
    {
     "data": {
      "image/png": "[encoded data removed]",
      "text/plain": [
       "<Figure size 432x288 with 2 Axes>"
      ]
     },
     "metadata": {
      "needs_background": "light"
     },
     "output_type": "display_data"
    }
   ],
   "source": [
    "import matplotlib.pyplot as plt\n",
    "c = plot(w)\n",
    "plt.colorbar(c)"
   ]
  },
  {
   "cell_type": "code",
   "execution_count": 32,
   "metadata": {},
   "outputs": [],
   "source": [
    "w_ = Function(FS)"
   ]
  },
  {
   "cell_type": "code",
   "execution_count": 33,
   "metadata": {},
   "outputs": [],
   "source": [
    "total_control_time = 800\n",
    "time_before_control_starts = 100\n"
   ]
  },
  {
   "cell_type": "code",
   "execution_count": 34,
   "metadata": {},
   "outputs": [
    {
     "name": "stdout",
     "output_type": "stream",
     "text": [
      "i = 0\n",
      "i = 10\n",
      "i = 20\n",
      "i = 30\n",
      "i = 40\n",
      "i = 50\n",
      "i = 60\n",
      "i = 70\n",
      "i = 80\n",
      "i = 90\n",
      "j = 100\n",
      "j = 110\n",
      "j = 120\n",
      "j = 130\n",
      "j = 140\n",
      "j = 150\n",
      "j = 160\n",
      "j = 170\n",
      "j = 180\n",
      "j = 190\n",
      "j = 200\n",
      "j = 210\n",
      "j = 220\n",
      "j = 230\n",
      "j = 240\n",
      "j = 250\n",
      "j = 260\n",
      "j = 270\n",
      "j = 280\n",
      "j = 290\n",
      "j = 300\n",
      "j = 310\n",
      "j = 320\n",
      "j = 330\n",
      "j = 340\n",
      "j = 350\n",
      "j = 360\n",
      "j = 370\n",
      "j = 380\n",
      "j = 390\n",
      "j = 400\n",
      "j = 410\n",
      "j = 420\n",
      "j = 430\n",
      "j = 440\n",
      "j = 450\n",
      "j = 460\n",
      "j = 470\n",
      "j = 480\n",
      "j = 490\n",
      "j = 500\n",
      "j = 510\n",
      "j = 520\n",
      "j = 530\n",
      "j = 540\n",
      "j = 550\n",
      "j = 560\n",
      "j = 570\n",
      "j = 580\n",
      "j = 590\n",
      "j = 600\n",
      "j = 610\n",
      "j = 620\n",
      "j = 630\n",
      "j = 640\n",
      "j = 650\n",
      "j = 660\n",
      "j = 670\n",
      "j = 680\n",
      "j = 690\n",
      "j = 700\n",
      "j = 710\n",
      "j = 720\n",
      "j = 730\n",
      "j = 740\n",
      "j = 750\n",
      "j = 760\n",
      "j = 770\n",
      "j = 780\n",
      "j = 790\n",
      "j = 800\n",
      "j = 810\n",
      "j = 820\n",
      "j = 830\n",
      "j = 840\n",
      "j = 850\n",
      "j = 860\n",
      "j = 870\n",
      "j = 880\n",
      "j = 890\n"
     ]
    }
   ],
   "source": [
    "xdmffile_u = XDMFFile(comm, f'stripe_u_total_control_time_{total_control_time}_time_before_control_starts_{time_before_control_starts}.xdmf')\n",
    "xdmffile_w = XDMFFile(comm, f'stripe_w_total_control_time_{total_control_time}_time_before_control_starts_{time_before_control_starts}.xdmf')\n",
    "\n",
    "\n",
    "\n",
    "\n",
    "for i in range(time_before_control_starts):\n",
    "    if (i % 10 == 0):\n",
    "        print(f\"i = {i}\", flush = True)\n",
    "        \n",
    "    data_.read(u, f\"u_new/Vector/vector_{49800 + i}\")\n",
    "    xdmffile_u.write(u, i)\n",
    "    xdmffile_w.write(w, i)\n",
    "    \n",
    "for j in range(i, total_control_time + i):\n",
    "    \n",
    "    if (j % 10 == 0):\n",
    "        print(f\"j = {j}\", flush = True)\n",
    "        \n",
    "    data.read(u, f\"u_new/Vector/vector_{j - i}\")\n",
    "    data.read(w, f\"w/Vector/vector_{j - i}\")\n",
    "\n",
    "    xdmffile_u.write(u, j)\n",
    "    xdmffile_w.write(w, j)\n",
    "    \n",
    "Hdf.close()"
   ]
  },
  {
   "cell_type": "code",
   "execution_count": 35,
   "metadata": {},
   "outputs": [],
   "source": [
    "xdmffile_u.close()\n",
    "xdmffile_w.close()\n",
    "\n",
    "\n"
   ]
  },
  {
   "cell_type": "code",
   "execution_count": null,
   "metadata": {},
   "outputs": [],
   "source": []
  }
 ],
 "metadata": {
  "kernelspec": {
   "display_name": "Python 3",
   "language": "python",
   "name": "python3"
  },
  "language_info": {
   "codemirror_mode": {
    "name": "ipython",
    "version": 3
   },
   "file_extension": ".py",
   "mimetype": "text/x-python",
   "name": "python",
   "nbconvert_exporter": "python",
   "pygments_lexer": "ipython3",
   "version": "3.9.2"
  }
 },
 "nbformat": 4,
 "nbformat_minor": 4
}
